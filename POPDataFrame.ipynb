{
 "cells": [
  {
   "cell_type": "code",
   "execution_count": 2,
   "metadata": {},
   "outputs": [],
   "source": [
    "import requests\n",
    "import matplotlib.pyplot as plt\n",
    "import numpy as np\n",
    "from scipy import stats\n",
    "import pandas as pd"
   ]
  },
  {
   "cell_type": "code",
   "execution_count": 3,
   "metadata": {},
   "outputs": [],
   "source": [
    "years = []\n",
    "State = []\n",
    "State2 = []\n",
    "Pop2013 = []\n",
    "Pop2014 = []\n",
    "Pop2015 = []\n",
    "Pop2016 = []\n",
    "Pop2017 = []\n",
    "Pop2018 = []\n",
    "Pop2019 = []\n",
    "API2015url = []\n"
   ]
  },
  {
   "cell_type": "code",
   "execution_count": 4,
   "metadata": {},
   "outputs": [],
   "source": [
    "GP2014 = []\n",
    "GP2015 = []\n",
    "GP2016 = []\n",
    "GP2017 = []\n",
    "GP2018 = []\n",
    "GP2019 = []\n",
    "GPTOTAL = []"
   ]
  },
  {
   "cell_type": "code",
   "execution_count": 5,
   "metadata": {},
   "outputs": [],
   "source": [
    "API2019 = requests.get(\"https://api.census.gov/data/2019/pep/population?get=NAME,POP&for=state:*&key=4d90660dba377c38abff7747fb3d98fa4d44913a\").json()"
   ]
  },
  {
   "cell_type": "code",
   "execution_count": 6,
   "metadata": {},
   "outputs": [],
   "source": [
    "API2018 = requests.get(\"https://api.census.gov/data/2018/pep/population?get=GEONAME,POP&for=state:*&key=4d90660dba377c38abff7747fb3d98fa4d44913a\").json()"
   ]
  },
  {
   "cell_type": "code",
   "execution_count": null,
   "metadata": {},
   "outputs": [],
   "source": []
  },
  {
   "cell_type": "code",
   "execution_count": 7,
   "metadata": {},
   "outputs": [],
   "source": [
    "API2017 = requests.get(\"https://api.census.gov/data/2017/pep/population?get=GEONAME,POP&for=state:*&key=4d90660dba377c38abff7747fb3d98fa4d44913a\").json()\n",
    "API2016 = requests.get(\"https://api.census.gov/data/2016/pep/population?get=GEONAME,POP&for=state:*&key=4d90660dba377c38abff7747fb3d98fa4d44913a\").json()\n",
    "API2015p1 = (\"https://api.census.gov/data/2015/pep/population?get=GEONAME,POP&for=state:\")\n",
    "API2015p2 = ['01','02','04','05','06','08','09','10','11','12','13','15','16','17','18','19','20','21','22','23','24','25','26','27','28','29','30','31','32','33','34','35','36','37','38','39','40','41','42','44','45','46','47','48','49','50','51','53','54','55','56','72']\n",
    "API2015p3 =(\"&key=4d90660dba377c38abff7747fb3d98fa4d44913a\")\n",
    "\n"
   ]
  },
  {
   "cell_type": "code",
   "execution_count": 8,
   "metadata": {},
   "outputs": [],
   "source": [
    "for num in range(0,52):\n",
    "    \n",
    "    API2015 = (API2015p1 + API2015p2[num] + API2015p3)\n",
    "    API2015url.append(API2015)\n",
    "    \n",
    "    \n"
   ]
  },
  {
   "cell_type": "code",
   "execution_count": 9,
   "metadata": {},
   "outputs": [],
   "source": [
    "for url in range(0,52):\n",
    "    GETPOP2015 = requests.get(API2015url[url]).json()\n",
    "    Pop2015.append(GETPOP2015[1][1])"
   ]
  },
  {
   "cell_type": "code",
   "execution_count": null,
   "metadata": {},
   "outputs": [],
   "source": []
  },
  {
   "cell_type": "code",
   "execution_count": 10,
   "metadata": {},
   "outputs": [],
   "source": [
    "API2014= requests.get(\"https://api.census.gov/data/2014/pep/natstprc?get=STNAME,POP&for=state:*&DATE_=6&key=4d90660dba377c38abff7747fb3d98fa4d44913a\").json()"
   ]
  },
  {
   "cell_type": "code",
   "execution_count": 11,
   "metadata": {},
   "outputs": [],
   "source": [
    "API2013= requests.get(\"https://api.census.gov/data/2013/pep/natstprc?get=STNAME,POP&for=state:*&DATE_=1&key=4d90660dba377c38abff7747fb3d98fa4d44913a\").json()"
   ]
  },
  {
   "cell_type": "code",
   "execution_count": null,
   "metadata": {},
   "outputs": [],
   "source": [
    "\n"
   ]
  },
  {
   "cell_type": "code",
   "execution_count": null,
   "metadata": {},
   "outputs": [],
   "source": []
  },
  {
   "cell_type": "code",
   "execution_count": 12,
   "metadata": {},
   "outputs": [],
   "source": [
    "for ro in range(1,53):\n",
    "    State2.append(API2013[ro][0])\n"
   ]
  },
  {
   "cell_type": "code",
   "execution_count": null,
   "metadata": {},
   "outputs": [],
   "source": [
    "\n"
   ]
  },
  {
   "cell_type": "code",
   "execution_count": 13,
   "metadata": {},
   "outputs": [],
   "source": [
    "for po in range(1,53):\n",
    "    Pop2013.append(API2013[po][1])\n",
    "    Pop2014.append(API2014[po][1])\n",
    "    Pop2018.append(API2018[po][1])\n",
    "    Pop2019.append(API2019[po][1])\n",
    "for po in range(15,23):\n",
    "    Pop2017.append(API2017[po][1])\n",
    "for po in range(24,25):\n",
    "    Pop2016.append(API2016[po][1])\n",
    "\n",
    "\n"
   ]
  },
  {
   "cell_type": "code",
   "execution_count": 14,
   "metadata": {},
   "outputs": [],
   "source": [
    "for po in range(1,15):\n",
    "    Pop2017.append(API2017[po][1])\n",
    "for po in range(1,24):\n",
    "    Pop2016.append(API2016[po][1])\n"
   ]
  },
  {
   "cell_type": "code",
   "execution_count": 15,
   "metadata": {},
   "outputs": [],
   "source": [
    "for po in range(23,53):\n",
    "    Pop2017.append(API2017[po][1])\n",
    "for po in range(25,53):\n",
    "    Pop2016.append(API2016[po][1])\n"
   ]
  },
  {
   "cell_type": "code",
   "execution_count": 16,
   "metadata": {},
   "outputs": [],
   "source": [
    "for i in range(0, len(Pop2019)): \n",
    "    Pop2019[i] = int(Pop2019[i]) \n",
    "for i in range(0, len(Pop2018)): \n",
    "    Pop2018[i] = int(Pop2018[i]) \n",
    "for i in range(0, len(Pop2017)): \n",
    "    Pop2017[i] = int(Pop2017[i]) \n",
    "for i in range(0, len(Pop2016)): \n",
    "    Pop2016[i] = int(Pop2016[i]) \n",
    "for i in range(0, len(Pop2015)): \n",
    "    Pop2015[i] = int(Pop2015[i]) \n",
    "for i in range(0, len(Pop2014)): \n",
    "    Pop2014[i] = int(Pop2014[i]) \n",
    "for i in range(0, len(Pop2013)): \n",
    "    Pop2013[i] = int(Pop2013[i]) \n"
   ]
  },
  {
   "cell_type": "code",
   "execution_count": null,
   "metadata": {},
   "outputs": [],
   "source": []
  },
  {
   "cell_type": "code",
   "execution_count": null,
   "metadata": {},
   "outputs": [],
   "source": []
  },
  {
   "cell_type": "code",
   "execution_count": null,
   "metadata": {},
   "outputs": [],
   "source": [
    "\n"
   ]
  },
  {
   "cell_type": "code",
   "execution_count": null,
   "metadata": {},
   "outputs": [],
   "source": []
  },
  {
   "cell_type": "code",
   "execution_count": 17,
   "metadata": {},
   "outputs": [],
   "source": [
    "def growth_perc(x,y):\n",
    "    growth = (y - x)/x\n",
    "    growth = growth*100\n",
    "    growth = round(growth,2)\n",
    "    return growth\n",
    "def total_growth(a,b):\n",
    "    tot_growth = (b-a)/a\n",
    "    tot_growth = tot_growth*100\n",
    "    tot_growth = round(tot_growth,2)\n",
    "    return tot_growth\n"
   ]
  },
  {
   "cell_type": "code",
   "execution_count": null,
   "metadata": {},
   "outputs": [],
   "source": []
  },
  {
   "cell_type": "code",
   "execution_count": 18,
   "metadata": {},
   "outputs": [],
   "source": [
    "for xy in range(0,52):\n",
    "    GP2014.append(growth_perc(Pop2013[xy],Pop2014[xy]))\n",
    "for xy in range(0,52):\n",
    "    GP2015.append(growth_perc(Pop2014[xy],Pop2015[xy]))\n",
    "for xy in range(0,52):\n",
    "    GP2016.append(growth_perc(Pop2015[xy],Pop2016[xy]))\n",
    "for xy in range(0,52):\n",
    "    GP2017.append(growth_perc(Pop2016[xy],Pop2017[xy]))\n",
    "for xy in range(0,52):\n",
    "    GP2018.append(growth_perc(Pop2017[xy],Pop2018[xy]))\n",
    "for xy in range(0,52):\n",
    "    GP2019.append(growth_perc(Pop2018[xy],Pop2019[xy]))\n",
    "    \n",
    "\n"
   ]
  },
  {
   "cell_type": "code",
   "execution_count": 19,
   "metadata": {},
   "outputs": [],
   "source": [
    "for xs in range(0,52):\n",
    "    GPTOTAL.append(total_growth(Pop2013[xs],Pop2019[xs]))"
   ]
  },
  {
   "cell_type": "code",
   "execution_count": null,
   "metadata": {},
   "outputs": [],
   "source": []
  },
  {
   "cell_type": "code",
   "execution_count": 20,
   "metadata": {},
   "outputs": [],
   "source": [
    "StatePopbyyear = {\n",
    "    \n",
    "    \"State\": State2,\n",
    "    \"2013\": Pop2013,\n",
    "    \"2014\": Pop2014,\n",
    "    \"2015\": Pop2015,\n",
    "    \"2016\": Pop2016,\n",
    "    \"2017\": Pop2017,\n",
    "    \"2018\": Pop2018,\n",
    "    \"2019\": Pop2019,\n",
    "    \"GP 2014\": GP2014,\n",
    "    \"GP 2015\": GP2015,\n",
    "    \"GP 2016\": GP2016,\n",
    "    \"GP 2017\": GP2017,\n",
    "    \"GP 2018\": GP2018,\n",
    "    \"GP 2019\": GP2019,\n",
    "    \"Total Growth\": GPTOTAL,\n",
    "\n",
    "}"
   ]
  },
  {
   "cell_type": "code",
   "execution_count": 21,
   "metadata": {},
   "outputs": [
    {
     "data": {
      "text/html": [
       "<div>\n",
       "<style scoped>\n",
       "    .dataframe tbody tr th:only-of-type {\n",
       "        vertical-align: middle;\n",
       "    }\n",
       "\n",
       "    .dataframe tbody tr th {\n",
       "        vertical-align: top;\n",
       "    }\n",
       "\n",
       "    .dataframe thead th {\n",
       "        text-align: right;\n",
       "    }\n",
       "</style>\n",
       "<table border=\"1\" class=\"dataframe\">\n",
       "  <thead>\n",
       "    <tr style=\"text-align: right;\">\n",
       "      <th></th>\n",
       "      <th>State</th>\n",
       "      <th>2013</th>\n",
       "      <th>2014</th>\n",
       "      <th>2015</th>\n",
       "      <th>2016</th>\n",
       "      <th>2017</th>\n",
       "      <th>2018</th>\n",
       "      <th>2019</th>\n",
       "      <th>GP 2014</th>\n",
       "      <th>GP 2015</th>\n",
       "      <th>GP 2016</th>\n",
       "      <th>GP 2017</th>\n",
       "      <th>GP 2018</th>\n",
       "      <th>GP 2019</th>\n",
       "      <th>Total Growth</th>\n",
       "    </tr>\n",
       "  </thead>\n",
       "  <tbody>\n",
       "    <tr>\n",
       "      <td>0</td>\n",
       "      <td>Alabama</td>\n",
       "      <td>4779736</td>\n",
       "      <td>4833996</td>\n",
       "      <td>4858979</td>\n",
       "      <td>4863300</td>\n",
       "      <td>4874747</td>\n",
       "      <td>4887871</td>\n",
       "      <td>4903185</td>\n",
       "      <td>1.14</td>\n",
       "      <td>0.52</td>\n",
       "      <td>0.09</td>\n",
       "      <td>0.24</td>\n",
       "      <td>0.27</td>\n",
       "      <td>0.31</td>\n",
       "      <td>2.58</td>\n",
       "    </tr>\n",
       "    <tr>\n",
       "      <td>1</td>\n",
       "      <td>Alaska</td>\n",
       "      <td>710231</td>\n",
       "      <td>737259</td>\n",
       "      <td>738432</td>\n",
       "      <td>741894</td>\n",
       "      <td>739795</td>\n",
       "      <td>737438</td>\n",
       "      <td>731545</td>\n",
       "      <td>3.81</td>\n",
       "      <td>0.16</td>\n",
       "      <td>0.47</td>\n",
       "      <td>-0.28</td>\n",
       "      <td>-0.32</td>\n",
       "      <td>-0.80</td>\n",
       "      <td>3.00</td>\n",
       "    </tr>\n",
       "    <tr>\n",
       "      <td>2</td>\n",
       "      <td>Arizona</td>\n",
       "      <td>6392017</td>\n",
       "      <td>6634997</td>\n",
       "      <td>6828065</td>\n",
       "      <td>6931071</td>\n",
       "      <td>7016270</td>\n",
       "      <td>7171646</td>\n",
       "      <td>7278717</td>\n",
       "      <td>3.80</td>\n",
       "      <td>2.91</td>\n",
       "      <td>1.51</td>\n",
       "      <td>1.23</td>\n",
       "      <td>2.21</td>\n",
       "      <td>1.49</td>\n",
       "      <td>13.87</td>\n",
       "    </tr>\n",
       "    <tr>\n",
       "      <td>3</td>\n",
       "      <td>Arkansas</td>\n",
       "      <td>2915918</td>\n",
       "      <td>2958765</td>\n",
       "      <td>2978204</td>\n",
       "      <td>2988248</td>\n",
       "      <td>3004279</td>\n",
       "      <td>3013825</td>\n",
       "      <td>3017804</td>\n",
       "      <td>1.47</td>\n",
       "      <td>0.66</td>\n",
       "      <td>0.34</td>\n",
       "      <td>0.54</td>\n",
       "      <td>0.32</td>\n",
       "      <td>0.13</td>\n",
       "      <td>3.49</td>\n",
       "    </tr>\n",
       "    <tr>\n",
       "      <td>4</td>\n",
       "      <td>California</td>\n",
       "      <td>37253956</td>\n",
       "      <td>38431393</td>\n",
       "      <td>39144818</td>\n",
       "      <td>39250017</td>\n",
       "      <td>39536653</td>\n",
       "      <td>39557045</td>\n",
       "      <td>39512223</td>\n",
       "      <td>3.16</td>\n",
       "      <td>1.86</td>\n",
       "      <td>0.27</td>\n",
       "      <td>0.73</td>\n",
       "      <td>0.05</td>\n",
       "      <td>-0.11</td>\n",
       "      <td>6.06</td>\n",
       "    </tr>\n",
       "  </tbody>\n",
       "</table>\n",
       "</div>"
      ],
      "text/plain": [
       "        State      2013      2014      2015      2016      2017      2018  \\\n",
       "0     Alabama   4779736   4833996   4858979   4863300   4874747   4887871   \n",
       "1      Alaska    710231    737259    738432    741894    739795    737438   \n",
       "2     Arizona   6392017   6634997   6828065   6931071   7016270   7171646   \n",
       "3    Arkansas   2915918   2958765   2978204   2988248   3004279   3013825   \n",
       "4  California  37253956  38431393  39144818  39250017  39536653  39557045   \n",
       "\n",
       "       2019  GP 2014  GP 2015  GP 2016  GP 2017  GP 2018  GP 2019  \\\n",
       "0   4903185     1.14     0.52     0.09     0.24     0.27     0.31   \n",
       "1    731545     3.81     0.16     0.47    -0.28    -0.32    -0.80   \n",
       "2   7278717     3.80     2.91     1.51     1.23     2.21     1.49   \n",
       "3   3017804     1.47     0.66     0.34     0.54     0.32     0.13   \n",
       "4  39512223     3.16     1.86     0.27     0.73     0.05    -0.11   \n",
       "\n",
       "   Total Growth  \n",
       "0          2.58  \n",
       "1          3.00  \n",
       "2         13.87  \n",
       "3          3.49  \n",
       "4          6.06  "
      ]
     },
     "execution_count": 21,
     "metadata": {},
     "output_type": "execute_result"
    }
   ],
   "source": [
    "statedf = pd.DataFrame(StatePopbyyear)\n",
    "statedf.head()"
   ]
  },
  {
   "cell_type": "code",
   "execution_count": null,
   "metadata": {},
   "outputs": [],
   "source": []
  },
  {
   "cell_type": "code",
   "execution_count": 23,
   "metadata": {},
   "outputs": [],
   "source": [
    "statedf.to_csv('PopbyState.csv')"
   ]
  },
  {
   "cell_type": "code",
   "execution_count": null,
   "metadata": {},
   "outputs": [],
   "source": []
  }
 ],
 "metadata": {
  "kernelspec": {
   "display_name": "Python 3",
   "language": "python",
   "name": "python3"
  },
  "language_info": {
   "codemirror_mode": {
    "name": "ipython",
    "version": 3
   },
   "file_extension": ".py",
   "mimetype": "text/x-python",
   "name": "python",
   "nbconvert_exporter": "python",
   "pygments_lexer": "ipython3",
   "version": "3.7.4"
  }
 },
 "nbformat": 4,
 "nbformat_minor": 2
}
